{
 "cells": [
  {
   "cell_type": "code",
   "execution_count": 26,
   "metadata": {},
   "outputs": [
    {
     "name": "stdout",
     "output_type": "stream",
     "text": [
      "Defaulting to user installation because normal site-packages is not writeable\n",
      "Requirement already satisfied: botorch in c:\\users\\florentin\\appdata\\roaming\\python\\python311\\site-packages (0.9.5)\n",
      "Requirement already satisfied: multipledispatch in c:\\users\\florentin\\appdata\\roaming\\python\\python311\\site-packages (from botorch) (1.0.0)\n",
      "Requirement already satisfied: scipy in c:\\users\\florentin\\appdata\\roaming\\python\\python311\\site-packages (from botorch) (1.11.4)\n",
      "Requirement already satisfied: torch>=1.13.1 in c:\\users\\florentin\\appdata\\roaming\\python\\python311\\site-packages (from botorch) (2.0.1+cu118)\n",
      "Requirement already satisfied: pyro-ppl>=1.8.4 in c:\\users\\florentin\\appdata\\roaming\\python\\python311\\site-packages (from botorch) (1.8.6)\n",
      "Requirement already satisfied: gpytorch==1.11 in c:\\users\\florentin\\appdata\\roaming\\python\\python311\\site-packages (from botorch) (1.11)\n",
      "Requirement already satisfied: linear-operator==0.5.1 in c:\\users\\florentin\\appdata\\roaming\\python\\python311\\site-packages (from botorch) (0.5.1)\n",
      "Requirement already satisfied: scikit-learn in c:\\users\\florentin\\appdata\\roaming\\python\\python311\\site-packages (from gpytorch==1.11->botorch) (1.2.2)\n",
      "Requirement already satisfied: jaxtyping>=0.2.9 in c:\\users\\florentin\\appdata\\roaming\\python\\python311\\site-packages (from linear-operator==0.5.1->botorch) (0.2.25)\n",
      "Requirement already satisfied: typeguard~=2.13.3 in c:\\users\\florentin\\appdata\\roaming\\python\\python311\\site-packages (from linear-operator==0.5.1->botorch) (2.13.3)\n",
      "Requirement already satisfied: numpy>=1.7 in c:\\users\\florentin\\appdata\\roaming\\python\\python311\\site-packages (from pyro-ppl>=1.8.4->botorch) (1.26.2)\n",
      "Requirement already satisfied: opt-einsum>=2.3.2 in c:\\users\\florentin\\appdata\\roaming\\python\\python311\\site-packages (from pyro-ppl>=1.8.4->botorch) (3.3.0)\n",
      "Requirement already satisfied: pyro-api>=0.1.1 in c:\\users\\florentin\\appdata\\roaming\\python\\python311\\site-packages (from pyro-ppl>=1.8.4->botorch) (0.1.2)\n",
      "Requirement already satisfied: tqdm>=4.36 in c:\\users\\florentin\\appdata\\roaming\\python\\python311\\site-packages (from pyro-ppl>=1.8.4->botorch) (4.66.1)\n",
      "Requirement already satisfied: filelock in c:\\users\\florentin\\appdata\\roaming\\python\\python311\\site-packages (from torch>=1.13.1->botorch) (3.13.1)\n",
      "Requirement already satisfied: typing-extensions in c:\\users\\florentin\\appdata\\roaming\\python\\python311\\site-packages (from torch>=1.13.1->botorch) (4.8.0)\n",
      "Requirement already satisfied: sympy in c:\\users\\florentin\\appdata\\roaming\\python\\python311\\site-packages (from torch>=1.13.1->botorch) (1.12)\n",
      "Requirement already satisfied: networkx in c:\\users\\florentin\\appdata\\roaming\\python\\python311\\site-packages (from torch>=1.13.1->botorch) (3.2.1)\n",
      "Requirement already satisfied: jinja2 in c:\\users\\florentin\\appdata\\roaming\\python\\python311\\site-packages (from torch>=1.13.1->botorch) (3.1.2)\n",
      "Requirement already satisfied: colorama in c:\\users\\florentin\\appdata\\roaming\\python\\python311\\site-packages (from tqdm>=4.36->pyro-ppl>=1.8.4->botorch) (0.4.6)\n",
      "Requirement already satisfied: MarkupSafe>=2.0 in c:\\users\\florentin\\appdata\\roaming\\python\\python311\\site-packages (from jinja2->torch>=1.13.1->botorch) (2.1.3)\n",
      "Requirement already satisfied: joblib>=1.1.1 in c:\\users\\florentin\\appdata\\roaming\\python\\python311\\site-packages (from scikit-learn->gpytorch==1.11->botorch) (1.2.0)\n",
      "Requirement already satisfied: threadpoolctl>=2.0.0 in c:\\users\\florentin\\appdata\\roaming\\python\\python311\\site-packages (from scikit-learn->gpytorch==1.11->botorch) (3.1.0)\n",
      "Requirement already satisfied: mpmath>=0.19 in c:\\users\\florentin\\appdata\\roaming\\python\\python311\\site-packages (from sympy->torch>=1.13.1->botorch) (1.3.0)\n"
     ]
    },
    {
     "name": "stderr",
     "output_type": "stream",
     "text": [
      "\n",
      "[notice] A new release of pip is available: 23.1.2 -> 23.3.2\n",
      "[notice] To update, run: python.exe -m pip install --upgrade pip\n"
     ]
    }
   ],
   "source": [
    "!pip install botorch"
   ]
  },
  {
   "cell_type": "code",
   "execution_count": 27,
   "metadata": {},
   "outputs": [],
   "source": [
    "import time\n",
    "import torch\n",
    "import numpy as np\n",
    "import botorch\n",
    "from botorch import fit_gpytorch_model\n",
    "from botorch.models import SingleTaskGP, HeteroskedasticSingleTaskGP\n",
    "from gpytorch.mlls.sum_marginal_log_likelihood import ExactMarginalLogLikelihood\n",
    "\n",
    "torch.set_default_dtype(torch.float64)"
   ]
  },
  {
   "cell_type": "code",
   "execution_count": 28,
   "metadata": {},
   "outputs": [
    {
     "data": {
      "text/plain": [
       "(16.390802848518486, 0.16833492580389176)"
      ]
     },
     "execution_count": 28,
     "metadata": {},
     "output_type": "execute_result"
    }
   ],
   "source": [
    "lower_bounds = [-3, -3]\n",
    "upper_bounds = [3, 3]\n",
    "bounds = [lower_bounds, upper_bounds]\n",
    "bounds = torch.tensor(bounds, dtype=torch.float)\n",
    "\n",
    "\n",
    "def blackbox_func(x):\n",
    "    res = x[0]**3 + x[1]**3\n",
    "    var = torch.rand(1).item()/5 # var in [0.5, 1.5]\n",
    "    res_noise = np.random.normal(loc=res, scale=np.sqrt(var))\n",
    "    \n",
    "    return res_noise, var\n",
    "\n",
    "blackbox_func([2.0, 2.0])"
   ]
  },
  {
   "cell_type": "code",
   "execution_count": 29,
   "metadata": {},
   "outputs": [],
   "source": [
    "def generate_initial_data(n=10):\n",
    "    # generate training data\n",
    "    train_x = torch.rand(n, 2)\n",
    "    train_y = []\n",
    "    train_y_var = []\n",
    "\n",
    "    for i in range(n):\n",
    "        t_y, t_y_var = blackbox_func(train_x[i])\n",
    "        train_y.append(t_y)\n",
    "        train_y_var.append(t_y_var)\n",
    "\n",
    "    train_y = torch.tensor(train_y).reshape(-1,1)\n",
    "    train_y_var = torch.tensor(train_y_var).reshape(-1,1)\n",
    "\n",
    "\n",
    "    return train_x, train_y, train_y_var\n",
    "    \n",
    "    \n",
    "def initialize_model(train_x, train_y, train_y_var, state_dict=None):\n",
    "    # define models for objective and constraint\n",
    "    model = SingleTaskGP(train_x, train_y)\n",
    "    mll = ExactMarginalLogLikelihood(model.likelihood, model)\n",
    "\n",
    "    # load state dict if it is passed\n",
    "    if state_dict is not None:\n",
    "        model.load_state_dict(state_dict)\n",
    "        \n",
    "    return mll, model"
   ]
  },
  {
   "cell_type": "code",
   "execution_count": 30,
   "metadata": {},
   "outputs": [],
   "source": [
    "from botorch import fit_gpytorch_model\n",
    "from botorch.optim import optimize_acqf\n",
    "from botorch.acquisition.monte_carlo import qNoisyExpectedImprovement\n",
    "from botorch.exceptions import BadInitialCandidatesWarning\n",
    "from botorch.sampling import IIDNormalSampler, SobolQMCNormalSampler\n",
    "\n",
    "def get_next_points(train_x, train_y, train_y_var, best_y, bounds, n_points):    \n",
    "    train_x_mean = torch.mean(train_x, dim=0)\n",
    "    train_x_std = torch.std(train_x, dim=0)\n",
    "    train_x = (train_x-train_x_mean)/train_x_std\n",
    "\n",
    "\n",
    "    train_y_mean = torch.mean(train_y, dim=0)\n",
    "    train_y_std = torch.std(train_y, dim=0)\n",
    "    train_y = (train_y-train_y_mean)/train_y_std\n",
    "\n",
    "    \n",
    "    mll, model = initialize_model(train_x, train_y, train_y_var)\n",
    "\n",
    "    fit_gpytorch_model(mll, retain_graph=True)\n",
    "\n",
    "    sampler = SobolQMCNormalSampler(2048)\n",
    "    qNEI = qNoisyExpectedImprovement(model, train_x, sampler)\n",
    "\n",
    "    candidates = optimize_acqf(\n",
    "        acq_function=qNEI,\n",
    "        bounds=bounds,\n",
    "        q=n_points,\n",
    "        num_restarts=20,\n",
    "        raw_samples=500\n",
    "    )\n",
    "\n",
    "    return candidates"
   ]
  },
  {
   "cell_type": "code",
   "execution_count": 33,
   "metadata": {},
   "outputs": [
    {
     "ename": "SyntaxError",
     "evalue": "f-string: empty expression not allowed (1425114923.py, line 27)",
     "output_type": "error",
     "traceback": [
      "\u001b[1;36m  Cell \u001b[1;32mIn[33], line 27\u001b[1;36m\u001b[0m\n\u001b[1;33m    print(f\"{}\")\u001b[0m\n\u001b[1;37m               ^\u001b[0m\n\u001b[1;31mSyntaxError\u001b[0m\u001b[1;31m:\u001b[0m f-string: empty expression not allowed\n"
     ]
    }
   ],
   "source": [
    "from botorch.exceptions import InputDataWarning\n",
    "import warnings\n",
    "warnings.filterwarnings(\"ignore\", category=InputDataWarning)\n",
    "\n",
    "NUM_ITERATIONS = 300\n",
    "\n",
    "train_x, train_y, train_y_var = generate_initial_data(n=3)\n",
    "best_observed = torch.max(train_y)\n",
    "\n",
    "for iteration in range(1, NUM_ITERATIONS + 1):    \n",
    "        print(\"=\"*30)\n",
    "        print(\"Iteration number = \", iteration)\n",
    "        t0 = time.time()\n",
    "\n",
    "        \n",
    "        candidate = get_next_points(train_x, train_y, train_y_var, 0, bounds, 1)\n",
    "        candidate_x = candidate[0]\n",
    "        candidate_y, candidate_y_var = blackbox_func(candidate_x[0])\n",
    "\n",
    "        train_x = torch.cat([train_x, candidate_x])\n",
    "        train_y = torch.cat([train_y, torch.tensor(candidate_y).reshape(-1,1)])\n",
    "        train_y_var = torch.cat([train_y_var, torch.tensor(candidate_y_var).reshape(-1,1)])\n",
    "        best_observed = torch.max(train_y)\n",
    "\n",
    "        i = torch.argmax(train_y)\n",
    "        print(f\"{train_x[i]=}\")\n",
    "        print(f\"{train_y[i]=}\")\n",
    "        if train_y[i] > 26.5:\n",
    "                break\n",
    "        t = time.time()\n",
    "        print(f\"Got in {t-t0} seconds\")"
   ]
  },
  {
   "cell_type": "code",
   "execution_count": null,
   "metadata": {},
   "outputs": [],
   "source": [
    "\n",
    "\n",
    "\n",
    "\n",
    "\n"
   ]
  },
  {
   "cell_type": "code",
   "execution_count": 32,
   "metadata": {},
   "outputs": [],
   "source": [
    "\n",
    "n=10\n",
    "lower_bounds = [0.1, 0.1, 0.1, 0.1, 0.1, 0.1]\n",
    "upper_bounds = [10, 10, 10, 2, 2, 2]\n",
    "bounds = [lower_bounds, upper_bounds]\n",
    "bounds = torch.tensor(bounds)\n"
   ]
  }
 ],
 "metadata": {
  "kernelspec": {
   "display_name": "Python 3",
   "language": "python",
   "name": "python3"
  },
  "language_info": {
   "codemirror_mode": {
    "name": "ipython",
    "version": 3
   },
   "file_extension": ".py",
   "mimetype": "text/x-python",
   "name": "python",
   "nbconvert_exporter": "python",
   "pygments_lexer": "ipython3",
   "version": "3.11.3"
  }
 },
 "nbformat": 4,
 "nbformat_minor": 2
}
